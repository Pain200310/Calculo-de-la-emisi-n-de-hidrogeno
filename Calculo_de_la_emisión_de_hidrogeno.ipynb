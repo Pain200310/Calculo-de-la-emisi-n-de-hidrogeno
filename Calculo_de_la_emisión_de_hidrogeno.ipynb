{
  "nbformat": 4,
  "nbformat_minor": 0,
  "metadata": {
    "colab": {
      "private_outputs": true,
      "provenance": [],
      "authorship_tag": "ABX9TyOYHz8hursU7YgkvySf60FJ",
      "include_colab_link": true
    },
    "kernelspec": {
      "name": "python3",
      "display_name": "Python 3"
    },
    "language_info": {
      "name": "python"
    }
  },
  "cells": [
    {
      "cell_type": "markdown",
      "metadata": {
        "id": "view-in-github",
        "colab_type": "text"
      },
      "source": [
        "<a href=\"https://colab.research.google.com/github/Pain200310/Calculo-de-la-emisi-n-de-hidrogeno/blob/main/Calculo_de_la_emisi%C3%B3n_de_hidrogeno.ipynb\" target=\"_parent\"><img src=\"https://colab.research.google.com/assets/colab-badge.svg\" alt=\"Open In Colab\"/></a>"
      ]
    },
    {
      "cell_type": "code",
      "execution_count": null,
      "metadata": {
        "id": "vqmpm7hnrlcZ"
      },
      "outputs": [],
      "source": [
        "import numpy as np\n",
        "\n",
        "# Constantes físicas\n",
        "R = 1.096775833e7       # Constante de Rydberg en 1/m (ajustada para hidrógeno)\n",
        "h = 6.62607015e-34      # Constante de Planck en J*s\n",
        "c = 2.99792458e8        # Velocidad de la luz en m/s\n",
        "eV = 1.602176634e-19    # Conversión de 1 eV a Joules\n",
        "\n",
        "# ----------------------------------------------------\n",
        "# Función: transicion\n",
        "# Calcula la longitud de onda y la energía de un fotón\n",
        "# emitido en una transición entre dos niveles (n2 -> n1)\n",
        "# Parámetros:\n",
        "#   n1 = nivel final (más bajo)\n",
        "#   n2 = nivel inicial (más alto)\n",
        "# Retorna:\n",
        "#   longitud de onda en nm, energía en eV\n",
        "# ----------------------------------------------------\n",
        "def transicion(n1, n2):\n",
        "    inv_lambda = R * (1/n1**2 - 1/n2**2)   # fórmula de Rydberg\n",
        "    lambda_m = 1 / inv_lambda              # longitud de onda en metros\n",
        "    E_J = h * c / lambda_m                 # energía en Joules\n",
        "    E_eV = E_J / eV                        # conversión a eV\n",
        "    return lambda_m*1e9, E_eV              # devuelve longitud en nm y energía en eV\n",
        "\n",
        "# ----------------------------------------------------\n",
        "# Función: serie\n",
        "# Imprime en pantalla las transiciones de una serie\n",
        "# espectral del hidrógeno (Lyman, Balmer, Paschen, ...)\n",
        "# Parámetros:\n",
        "#   nombre = texto con el nombre de la serie\n",
        "#   n1 = nivel final de la serie (1=Lyman, 2=Balmer, etc.)\n",
        "#   n_max = máximo nivel inicial considerado (por defecto 6)\n",
        "# ----------------------------------------------------\n",
        "def serie(nombre, n1, n_max=6):\n",
        "    print(f\"Serie {nombre} (n1={n1})\")\n",
        "    for n2 in range(n1+1, n_max+1):   # se generan transiciones desde n2>n1 hasta n_max\n",
        "        lambda_nm, E_eV = transicion(n1, n2)\n",
        "        print(f\"  n2={n2} → λ={lambda_nm:.3f} nm, E={E_eV:.3f} eV\")\n",
        "    print()\n",
        "\n",
        "# Ejemplos de uso: se muestran tres series espectrales\n",
        "serie(\"Lyman\", n1=1, n_max=5)\n",
        "serie(\"Balmer\", n1=2, n_max=6)\n",
        "serie(\"Paschen\", n1=3, n_max=6)\n"
      ]
    }
  ]
}